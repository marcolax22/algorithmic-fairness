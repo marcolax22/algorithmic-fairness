{
 "cells": [
  {
   "cell_type": "markdown",
   "metadata": {},
   "source": [
    "# Data Preprocessing"
   ]
  },
  {
   "cell_type": "code",
   "execution_count": 14,
   "metadata": {},
   "outputs": [],
   "source": [
    "# -------------------------------------------------------------------------------\n",
    "# import packages\n",
    "import pandas as pd \n",
    "import numpy as np"
   ]
  },
  {
   "cell_type": "markdown",
   "metadata": {},
   "source": [
    "## Load and Process Data"
   ]
  },
  {
   "cell_type": "code",
   "execution_count": 15,
   "metadata": {},
   "outputs": [
    {
     "name": "stderr",
     "output_type": "stream",
     "text": [
      "/var/folders/0t/kqk1ph5n4ds0_g7v6gyknwdh0000gn/T/ipykernel_4584/2396384775.py:6: FutureWarning: Downcasting behavior in `replace` is deprecated and will be removed in a future version. To retain the old behavior, explicitly call `result.infer_objects(copy=False)`. To opt-in to the future behavior, set `pd.set_option('future.no_silent_downcasting', True)`\n",
      "  hiring_data['gender'] = hiring_data['gender'].replace({'male': 0, 'female': 1, 'other': 2})\n"
     ]
    }
   ],
   "source": [
    "# load dataset\n",
    "hiring_data =  pd.read_csv('data/recruitmentdataset-2022-1.3.csv')\n",
    "\n",
    "# ----------------------------------------------------\n",
    "# gender numeric column\n",
    "hiring_data['gender'] = hiring_data['gender'].replace({'male': 0, 'female': 1, 'other': 2})\n",
    "hiring_data['gender'] = hiring_data['gender'].astype(int)\n",
    "\n",
    "# drop gender 2 (other)\n",
    "hiring_data = hiring_data[hiring_data['gender'] != 2]\n",
    "\n",
    "# convert object (string) columns to categorical\n",
    "hiring_data = hiring_data.astype({col: 'category' for col in hiring_data.select_dtypes(include='object').columns})\n",
    "\n",
    "# Find object (string) and categorical columns\n",
    "non_numeric_cols = hiring_data.select_dtypes(include=['object', 'category']).columns\n",
    "\n",
    "# numeric columns\n",
    "for col in non_numeric_cols:\n",
    "    hiring_data[col] = hiring_data[col].astype('category').cat.codes\n",
    "hiring_data[non_numeric_cols] = hiring_data[non_numeric_cols].astype(int)\n",
    "\n",
    "# Convert all boolean columns to binary (0 and 1)\n",
    "hiring_data = hiring_data.astype({col: 'int' for col in hiring_data.select_dtypes(include='bool').columns})"
   ]
  },
  {
   "cell_type": "code",
   "execution_count": 16,
   "metadata": {},
   "outputs": [
    {
     "data": {
      "text/plain": [
       "gender\n",
       "0    2127\n",
       "1    1790\n",
       "Name: count, dtype: int64"
      ]
     },
     "execution_count": 16,
     "metadata": {},
     "output_type": "execute_result"
    }
   ],
   "source": [
    "hiring_data['gender'].value_counts()"
   ]
  },
  {
   "cell_type": "markdown",
   "metadata": {},
   "source": [
    "## Other data (maybe delete)"
   ]
  },
  {
   "cell_type": "code",
   "execution_count": 17,
   "metadata": {},
   "outputs": [
    {
     "data": {
      "text/html": [
       "<div>\n",
       "<style scoped>\n",
       "    .dataframe tbody tr th:only-of-type {\n",
       "        vertical-align: middle;\n",
       "    }\n",
       "\n",
       "    .dataframe tbody tr th {\n",
       "        vertical-align: top;\n",
       "    }\n",
       "\n",
       "    .dataframe thead th {\n",
       "        text-align: right;\n",
       "    }\n",
       "</style>\n",
       "<table border=\"1\" class=\"dataframe\">\n",
       "  <thead>\n",
       "    <tr style=\"text-align: right;\">\n",
       "      <th>decision</th>\n",
       "      <th>0</th>\n",
       "      <th>1</th>\n",
       "    </tr>\n",
       "    <tr>\n",
       "      <th>Gender</th>\n",
       "      <th></th>\n",
       "      <th></th>\n",
       "    </tr>\n",
       "  </thead>\n",
       "  <tbody>\n",
       "    <tr>\n",
       "      <th>0</th>\n",
       "      <td>472</td>\n",
       "      <td>274</td>\n",
       "    </tr>\n",
       "    <tr>\n",
       "      <th>1</th>\n",
       "      <td>437</td>\n",
       "      <td>291</td>\n",
       "    </tr>\n",
       "  </tbody>\n",
       "</table>\n",
       "</div>"
      ],
      "text/plain": [
       "decision    0    1\n",
       "Gender            \n",
       "0         472  274\n",
       "1         437  291"
      ]
     },
     "execution_count": 17,
     "metadata": {},
     "output_type": "execute_result"
    }
   ],
   "source": [
    "hiring_data2 = pd.read_csv('data/recruitment_data.csv')\n",
    "hiring_data2['Gender'].value_counts()\n",
    "\n",
    "gender_matrix = pd.crosstab(hiring_data2['Gender'], hiring_data['decision'])\n",
    "gender_matrix"
   ]
  }
 ],
 "metadata": {
  "kernelspec": {
   "display_name": "Python 3",
   "language": "python",
   "name": "python3"
  },
  "language_info": {
   "codemirror_mode": {
    "name": "ipython",
    "version": 3
   },
   "file_extension": ".py",
   "mimetype": "text/x-python",
   "name": "python",
   "nbconvert_exporter": "python",
   "pygments_lexer": "ipython3",
   "version": "3.11.1"
  }
 },
 "nbformat": 4,
 "nbformat_minor": 2
}
